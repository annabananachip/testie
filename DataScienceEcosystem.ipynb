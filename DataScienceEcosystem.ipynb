{
 "cells": [
  {
   "cell_type": "markdown",
   "id": "23801193-7a74-4047-9eae-27ff6472dc13",
   "metadata": {
    "tags": []
   },
   "source": [
    "## Data Science Tools and Ecosystem"
   ]
  },
  {
   "cell_type": "markdown",
   "id": "17b38ada-0cf8-4cf0-948d-e42d7a2d3537",
   "metadata": {},
   "source": [
    "In this notebook, Data Science Tools and Ecosystem are summarized. "
   ]
  },
  {
   "cell_type": "markdown",
   "id": "f40bdb95-68b8-4b23-939d-9dae63eca5bb",
   "metadata": {},
   "source": [
    "## Objectives: "
   ]
  },
  {
   "cell_type": "markdown",
   "id": "473b9057-74c8-4535-b45f-44fdd3516464",
   "metadata": {},
   "source": [
    "- List popular languages for Data Scientists\n",
    "- List common libraries used for Data Scientists\n",
    "- Display basic arthimetic expressions"
   ]
  },
  {
   "cell_type": "markdown",
   "id": "edc15cf4-a204-4e3d-b4da-1892c1f3f16e",
   "metadata": {},
   "source": [
    "Some of the popular languages that Data Scientists use are:"
   ]
  },
  {
   "cell_type": "markdown",
   "id": "8725d1ec-0d65-42d0-8c63-c1add3881674",
   "metadata": {
    "tags": []
   },
   "source": [
    "- R"
   ]
  },
  {
   "cell_type": "markdown",
   "id": "adcfd960-7090-4654-938b-be479ec3829a",
   "metadata": {},
   "source": [
    "- Scala"
   ]
  },
  {
   "cell_type": "markdown",
   "id": "78404321-f7b1-4da3-9602-8d591d084599",
   "metadata": {},
   "source": [
    "- JavaScript"
   ]
  },
  {
   "cell_type": "markdown",
   "id": "228e1086-1dbb-48a3-9dc4-d2e358d04298",
   "metadata": {},
   "source": [
    "- Python "
   ]
  },
  {
   "cell_type": "markdown",
   "id": "1fa2d36f-5b97-4208-add1-780283ca5188",
   "metadata": {},
   "source": [
    "Some of the commonly used libraries Data Scientist use are:"
   ]
  },
  {
   "cell_type": "markdown",
   "id": "42e50d37-88f4-4c13-9d65-af6ff1f9c6f5",
   "metadata": {},
   "source": [
    "- SciPy"
   ]
  },
  {
   "cell_type": "markdown",
   "id": "88953b7a-6b10-4983-9809-851491c909d9",
   "metadata": {},
   "source": [
    "- NumPy"
   ]
  },
  {
   "cell_type": "markdown",
   "id": "af8a8d32-17fe-4242-8cd8-b97aa8ff5bd2",
   "metadata": {},
   "source": [
    "- Seaborn"
   ]
  },
  {
   "cell_type": "markdown",
   "id": "6fdc1664-5d0b-45db-b9a6-be11b53ca12e",
   "metadata": {},
   "source": [
    "- Matplotlib\n"
   ]
  },
  {
   "cell_type": "markdown",
   "id": "4a648913-e1af-49b3-bb45-27fd00d7f990",
   "metadata": {},
   "source": [
    "| Data Science Tools |\n",
    "| --------- |\n",
    "| Hadoop | \n",
    "| Spark | \n",
    "| Pandas |"
   ]
  },
  {
   "cell_type": "markdown",
   "id": "d930dd7c-aa27-4f05-9999-95198b1b3555",
   "metadata": {},
   "source": [
    "### Below are a few examples of evaluating arthimetic expressions in Python:"
   ]
  },
  {
   "cell_type": "markdown",
   "id": "63e48eae-f5c3-4323-bff2-db8258d9d010",
   "metadata": {
    "tags": []
   },
   "source": [
    "# This is a simple arthimetic expression to multiply then add integers\n",
    "\n",
    "(3*4)+5 "
   ]
  },
  {
   "cell_type": "markdown",
   "id": "c6cbc26c-0a6d-46ef-8de3-790f67329c57",
   "metadata": {
    "tags": []
   },
   "source": [
    "# This will convert 200 minutes to hours by dividing by 60\n",
    "\n",
    "min=int(\"200\") \n",
    "h=min//60\n",
    "m=min%60\n",
    "print (\"Hours=\",h)"
   ]
  },
  {
   "cell_type": "markdown",
   "id": "f602bdcc-6051-4250-9cfa-8425fcf76af0",
   "metadata": {},
   "source": [
    "## Author\n",
    "Anna "
   ]
  },
  {
   "cell_type": "code",
   "execution_count": null,
   "id": "36f68df1-264a-4d13-a94b-02687fb06808",
   "metadata": {},
   "outputs": [],
   "source": []
  }
 ],
 "metadata": {
  "kernelspec": {
   "display_name": "Python",
   "language": "python",
   "name": "conda-env-python-py"
  },
  "language_info": {
   "codemirror_mode": {
    "name": "ipython",
    "version": 3
   },
   "file_extension": ".py",
   "mimetype": "text/x-python",
   "name": "python",
   "nbconvert_exporter": "python",
   "pygments_lexer": "ipython3",
   "version": "3.7.12"
  }
 },
 "nbformat": 4,
 "nbformat_minor": 5
}
